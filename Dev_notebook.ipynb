{
 "cells": [
  {
   "cell_type": "code",
   "execution_count": 1,
   "id": "00f17881-500c-494a-8427-eeeaba3f965b",
   "metadata": {},
   "outputs": [],
   "source": [
    "import json\n",
    "import os\n",
    "\n",
    "from dotenv import load_dotenv\n",
    "from openai import OpenAI\n",
    "\n",
    "load_dotenv()\n",
    "client = OpenAI(\n",
    "    # This is the default and can be omitted\n",
    "    api_key=os.environ.get(\"OPENAI_API_KEY\"),\n",
    ")"
   ]
  },
  {
   "cell_type": "code",
   "execution_count": 2,
   "id": "5fec7d4f-22a4-4815-8056-b3e1ee27c2f1",
   "metadata": {},
   "outputs": [],
   "source": [
    "def clear_history():\n",
    "    file = 'database.json'\n",
    "    open(file, 'w')\n",
    "    return {\"message\": \"Chat history has been cleared\"}"
   ]
  },
  {
   "cell_type": "code",
   "execution_count": 3,
   "id": "bd07a4a1-2d45-4af5-88c4-d31775bf4fd1",
   "metadata": {},
   "outputs": [],
   "source": [
    "def load_messages():\n",
    "    messages = []\n",
    "    file = 'database.json'\n",
    "\n",
    "    empty = os.stat(file).st_size == 0\n",
    "\n",
    "    if not empty:\n",
    "        with open(file) as db_file:\n",
    "            data = json.load(db_file)\n",
    "            for item in data:\n",
    "                messages.append(item)\n",
    "    else:\n",
    "        messages.append(\n",
    "            {\"role\": \"system\", \"content\": \"You are interviewing the user for a 'OPENAI TECHNICAL EXPERT / DATA SCIENTIST' position. Ask short questions that are relevant to the position. Keep responses under 30 words and be polite and friendly.\"}\n",
    "        )\n",
    "    return messages"
   ]
  },
  {
   "cell_type": "code",
   "execution_count": 4,
   "id": "67b17af6-107f-46ef-9da9-9623aebba0e9",
   "metadata": {},
   "outputs": [],
   "source": [
    "def save_messages(user_message, gpt_response):\n",
    "    file = 'database.json'\n",
    "    messages = load_messages()\n",
    "    messages.append({\"role\": \"user\", \"content\": user_message})\n",
    "    messages.append({\"role\": \"assistant\", \"content\": gpt_response})\n",
    "    with open(file, 'w') as f:\n",
    "        json.dump(messages, f)"
   ]
  },
  {
   "cell_type": "code",
   "execution_count": 5,
   "id": "da02a7a2-8a66-4a44-8a92-558485f952a1",
   "metadata": {},
   "outputs": [],
   "source": [
    "def get_chat_response(user_message):\n",
    "    messages = load_messages()\n",
    "    messages.append({\"role\": \"user\", \"content\": user_message})\n",
    "\n",
    "    # Send to ChatGpt/OpenAi\n",
    "    gpt_response = client.chat.completions.create(\n",
    "        model=\"gpt-3.5-turbo\",\n",
    "        messages=messages\n",
    "        )\n",
    "\n",
    "    parsed_gpt_response = gpt_response.choices[0].message.content\n",
    "\n",
    "    # Save messages\n",
    "    save_messages(user_message, parsed_gpt_response)\n",
    "\n",
    "    return parsed_gpt_response"
   ]
  },
  {
   "cell_type": "code",
   "execution_count": 6,
   "id": "a975324e-47c8-4dc8-a1f0-9901433a4adf",
   "metadata": {},
   "outputs": [],
   "source": [
    "def get_user_input():\n",
    "    user_message = input(\"Message Interview-bot:\\n\")\n",
    "    return user_message"
   ]
  },
  {
   "cell_type": "code",
   "execution_count": 7,
   "id": "cc5e39e1-b3ba-4949-b02b-07edaf6f5e74",
   "metadata": {},
   "outputs": [
    {
     "data": {
      "text/plain": [
       "{'message': 'Chat history has been cleared'}"
      ]
     },
     "execution_count": 7,
     "metadata": {},
     "output_type": "execute_result"
    }
   ],
   "source": [
    "clear_history()"
   ]
  },
  {
   "cell_type": "code",
   "execution_count": 10,
   "id": "7fd2d081-74e0-4e04-bccf-2bc09407e7ec",
   "metadata": {},
   "outputs": [
    {
     "name": "stdin",
     "output_type": "stream",
     "text": [
      "Message Interview-bot:\n",
      " definitely!\n"
     ]
    },
    {
     "name": "stdout",
     "output_type": "stream",
     "text": [
      "Great! First question: Can you please explain your experience with machine learning algorithms and how you have applied them in your previous projects?\n"
     ]
    }
   ],
   "source": [
    "user_message = get_user_input()\n",
    "chat_response = get_chat_response(user_message)\n",
    "print(chat_response)"
   ]
  },
  {
   "cell_type": "code",
   "execution_count": null,
   "id": "141817b4-9385-40ef-8de3-845180c6b2d7",
   "metadata": {},
   "outputs": [],
   "source": []
  }
 ],
 "metadata": {
  "kernelspec": {
   "display_name": "Python 3 (ipykernel)",
   "language": "python",
   "name": "python3"
  },
  "language_info": {
   "codemirror_mode": {
    "name": "ipython",
    "version": 3
   },
   "file_extension": ".py",
   "mimetype": "text/x-python",
   "name": "python",
   "nbconvert_exporter": "python",
   "pygments_lexer": "ipython3",
   "version": "3.10.12"
  }
 },
 "nbformat": 4,
 "nbformat_minor": 5
}
